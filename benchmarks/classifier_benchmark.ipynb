{
 "cells": [
  {
   "cell_type": "code",
   "execution_count": 9,
   "metadata": {},
   "outputs": [],
   "source": [
    "import sys\n",
    "import numpy\n",
    "import time\n",
    "sys.path.append(\"..\")\n",
    "from skpp import ProjectionPursuitClassifier\n",
    "from sklearn.ensemble import RandomForestClassifier\n",
    "from sklearn.neighbors import KNeighborsClassifier\n",
    "from sklearn.neural_network import MLPClassifier\n",
    "from sklearn.svm import SVC\n",
    "from sklearn.tree import DecisionTreeClassifier\n",
    "from sklearn.datasets import load_wine"
   ]
  },
  {
   "cell_type": "code",
   "execution_count": 10,
   "metadata": {},
   "outputs": [],
   "source": [
    "rfc = RandomForestClassifier()\n",
    "dtc = DecisionTreeClassifier()\n",
    "mlp = MLPClassifier()\n",
    "knn = KNeighborsClassifier()\n",
    "svc = SVC()\n",
    "ppc = ProjectionPursuitClassifier()\n"
   ]
  },
  {
   "cell_type": "code",
   "execution_count": 11,
   "metadata": {},
   "outputs": [],
   "source": [
    "X, Y = load_wine(return_X_y=True)\n",
    "\n",
    "n = int(X.shape[0]*0.8)\n",
    "temp = numpy.arange(n)\n",
    "numpy.random.shuffle(temp)\n",
    "training = temp[0:int(n*0.8)]\n",
    "testing = temp[int(n*0.8):]"
   ]
  },
  {
   "cell_type": "code",
   "execution_count": 12,
   "metadata": {},
   "outputs": [
    {
     "name": "stderr",
     "output_type": "stream",
     "text": [
      "/home/codespace/.local/lib/python3.10/site-packages/sklearn/preprocessing/_encoders.py:975: FutureWarning: `sparse` was renamed to `sparse_output` in version 1.2 and will be removed in 1.4. `sparse_output` is ignored unless you leave `sparse` to its default value.\n",
      "  warnings.warn(\n"
     ]
    }
   ],
   "source": [
    "a = time.time()\n",
    "rfc.fit(X[training], Y[training])\n",
    "b = time.time()\n",
    "dtc.fit(X[training], Y[training])\n",
    "c = time.time()\n",
    "mlp.fit(X[training], Y[training])\n",
    "d = time.time()\n",
    "knn.fit(X[training], Y[training])\n",
    "e = time.time()\n",
    "svc.fit(X[training], Y[training])\n",
    "f = time.time()\n",
    "ppc.fit(X[training], Y[training])\n",
    "g = time.time()"
   ]
  },
  {
   "cell_type": "code",
   "execution_count": 13,
   "metadata": {},
   "outputs": [],
   "source": [
    "Yrfc = rfc.predict(X[training])\n",
    "Ydtc = dtc.predict(X[training])\n",
    "Ymlp = mlp.predict(X[training])\n",
    "Yknn = knn.predict(X[training])\n",
    "Ysvc = svc.predict(X[training])\n",
    "Yppc = ppc.predict(X[training])\n"
   ]
  },
  {
   "cell_type": "code",
   "execution_count": 14,
   "metadata": {},
   "outputs": [
    {
     "name": "stdout",
     "output_type": "stream",
     "text": [
      "Accuracy on training examples for RandomForestClassifier: 1.0\n",
      "Accuracy on training examples for DecisionTreeClassifier: 1.0\n",
      "Accuracy on training examples for MLPClassifier: 0.7964601769911505\n",
      "Accuracy on training examples for KNeighborsClassifier: 0.9026548672566371\n",
      "Accuracy on training examples for SVC: 0.8672566371681416\n",
      "Accuracy on training examples for ProjectionPursuitClassifier: 1.0\n"
     ]
    }
   ],
   "source": [
    "print(\"Accuracy on training examples for RandomForestClassifier:\",\n",
    "\tnumpy.sum(Y[training] == Yrfc)/float(Yrfc.size))\n",
    "print(\"Accuracy on training examples for DecisionTreeClassifier:\",\n",
    "\tnumpy.sum(Y[training] == Ydtc)/float(Ydtc.size))\n",
    "print(\"Accuracy on training examples for MLPClassifier:\",\n",
    "\tnumpy.sum(Y[training] == Ymlp)/float(Ymlp.size))\n",
    "print(\"Accuracy on training examples for KNeighborsClassifier:\",\n",
    "\tnumpy.sum(Y[training] == Yknn)/float(Yknn.size))\n",
    "print(\"Accuracy on training examples for SVC:\",\n",
    "\tnumpy.sum(Y[training] == Ysvc)/float(Ysvc.size))\n",
    "print(\"Accuracy on training examples for ProjectionPursuitClassifier:\",\n",
    "\tnumpy.sum(Y[training] == Yppc)/float(Yppc.size))"
   ]
  },
  {
   "cell_type": "code",
   "execution_count": null,
   "metadata": {},
   "outputs": [],
   "source": [
    "Yrfc = rfc.predict(X[testing])\n",
    "Ydtc = dtc.predict(X[testing])\n",
    "Ymlp = mlp.predict(X[testing])\n",
    "Yknn = knn.predict(X[testing])\n",
    "Ysvc = svc.predict(X[testing])\n",
    "Yppc = ppc.predict(X[testing])\n"
   ]
  },
  {
   "cell_type": "code",
   "execution_count": 15,
   "metadata": {},
   "outputs": [],
   "source": [
    "Yrfc = rfc.predict(X[testing])\n",
    "Ydtc = dtc.predict(X[testing])\n",
    "Ymlp = mlp.predict(X[testing])\n",
    "Yknn = knn.predict(X[testing])\n",
    "Ysvc = svc.predict(X[testing])\n",
    "Yppc = ppc.predict(X[testing])\n"
   ]
  },
  {
   "cell_type": "code",
   "execution_count": 16,
   "metadata": {},
   "outputs": [
    {
     "name": "stdout",
     "output_type": "stream",
     "text": [
      "Accuracy on testing examples for RandomForestClassifier: 0.9655172413793104\n",
      "Accuracy on testing examples for DecisionTreeClassifier: 0.8620689655172413\n",
      "Accuracy on testing examples for MLPClassifier: 0.6551724137931034\n",
      "Accuracy on testing examples for KNeighborsClassifier: 0.7586206896551724\n",
      "Accuracy on testing examples for SVC: 0.7586206896551724\n",
      "Accuracy on testing examples for ProjectionPursuitClassifier: 1.0\n"
     ]
    }
   ],
   "source": [
    "print(\"Accuracy on testing examples for RandomForestClassifier:\",\n",
    "\tnumpy.sum(Y[testing] == Yrfc)/float(Yrfc.size))\n",
    "print(\"Accuracy on testing examples for DecisionTreeClassifier:\",\n",
    "\tnumpy.sum(Y[testing] == Ydtc)/float(Ydtc.size))\n",
    "print(\"Accuracy on testing examples for MLPClassifier:\",\n",
    "\tnumpy.sum(Y[testing] == Ymlp)/float(Ymlp.size))\n",
    "print(\"Accuracy on testing examples for KNeighborsClassifier:\",\n",
    "\tnumpy.sum(Y[testing] == Yknn)/float(Yknn.size))\n",
    "print(\"Accuracy on testing examples for SVC:\",\n",
    "\tnumpy.sum(Y[testing] == Ysvc)/float(Ysvc.size))\n",
    "print(\"Accuracy on testing examples for ProjectionPursuitClassifier:\",\n",
    "\tnumpy.sum(Y[testing] == Yppc)/float(Yppc.size))\n"
   ]
  },
  {
   "cell_type": "code",
   "execution_count": 17,
   "metadata": {},
   "outputs": [
    {
     "name": "stdout",
     "output_type": "stream",
     "text": [
      "Training time for RandomForestClassifier: 0.09774208068847656\n",
      "Training time for DecisionTreeClassifier: 0.0009016990661621094\n",
      "Training time for MLPClassifier: 0.014038324356079102\n",
      "Training time for KNeighborsClassifier: 0.0016148090362548828\n",
      "Training time for SVC: 0.027427196502685547\n",
      "Training time for ProjectionPursuitClassifier: 0.9641311168670654\n"
     ]
    }
   ],
   "source": [
    "print(\"Training time for RandomForestClassifier:\", b-a)\n",
    "print(\"Training time for DecisionTreeClassifier:\", c-b)\n",
    "print(\"Training time for MLPClassifier:\", d-c)\n",
    "print(\"Training time for KNeighborsClassifier:\", e-d)\n",
    "print(\"Training time for SVC:\", f-e)\n",
    "print(\"Training time for ProjectionPursuitClassifier:\", g-f)"
   ]
  }
 ],
 "metadata": {
  "kernelspec": {
   "display_name": "Python 3",
   "language": "python",
   "name": "python3"
  },
  "language_info": {
   "codemirror_mode": {
    "name": "ipython",
    "version": 3
   },
   "file_extension": ".py",
   "mimetype": "text/x-python",
   "name": "python",
   "nbconvert_exporter": "python",
   "pygments_lexer": "ipython3",
   "version": "3.10.13"
  }
 },
 "nbformat": 4,
 "nbformat_minor": 2
}
