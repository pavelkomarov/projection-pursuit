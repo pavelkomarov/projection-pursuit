{
 "cells": [
  {
   "cell_type": "code",
   "execution_count": null,
   "metadata": {},
   "outputs": [],
   "source": [
    "#This script gives some insight in to the benefits of PPR. Specifically, on a\n",
    "# small dataset a NN may not have enough examples for gradient descent to run\n",
    "# to completion, whereas for the cost of a little extra training time PPR can\n",
    "# fully utilize few examples. As a result PPR's training error is always less\n",
    "# than that for NN, and its testing error is usually less. Occasionally PPR's\n",
    "# fit is irregular, and its testing error is worse; this can probably be\n",
    "# remedied by adding regularization to the loss function and rederiving the\n",
    "# optimization process to accommodate it.\n"
   ]
  },
  {
   "cell_type": "code",
   "execution_count": null,
   "metadata": {},
   "outputs": [],
   "source": [
    "import numpy\n",
    "import time\n",
    "import sys\n",
    "sys.path.append(\"..\")\n",
    "from skpp import ProjectionPursuitRegressor\n",
    "from sklearn.neural_network import MLPRegressor\n",
    "from sklearn.datasets import load_boston\n"
   ]
  },
  {
   "cell_type": "code",
   "execution_count": null,
   "metadata": {},
   "outputs": [],
   "source": [
    "#%pip install scikit-learn==1.1.3\n",
    "mlp = MLPRegressor()\n",
    "ppr = ProjectionPursuitRegressor()"
   ]
  },
  {
   "cell_type": "code",
   "execution_count": 4,
   "metadata": {},
   "outputs": [],
   "source": [
    "X, Y = load_boston(return_X_y=True)\n",
    "\n",
    "n = int(X.shape[0]*0.8)\n",
    "temp = numpy.arange(n)\n",
    "numpy.random.shuffle(temp)\n",
    "training = temp[0:int(n*0.8)]\n",
    "testing = temp[int(n*0.8):]\n"
   ]
  },
  {
   "cell_type": "code",
   "execution_count": 5,
   "metadata": {},
   "outputs": [
    {
     "name": "stderr",
     "output_type": "stream",
     "text": [
      "/workspaces/projection-pursuit/.conda/lib/python3.10/site-packages/sklearn/neural_network/_multilayer_perceptron.py:702: ConvergenceWarning: Stochastic Optimizer: Maximum iterations (200) reached and the optimization hasn't converged yet.\n",
      "  warnings.warn(\n"
     ]
    }
   ],
   "source": [
    "a = time.time()\n",
    "mlp.fit(X[training], Y[training])\n",
    "b = time.time()\n",
    "ppr.fit(X[training], Y[training])\n",
    "c = time.time()\n"
   ]
  },
  {
   "cell_type": "code",
   "execution_count": 7,
   "metadata": {},
   "outputs": [],
   "source": [
    "Ymlp = mlp.predict(X[training])\n",
    "Yppr = ppr.predict(X[training])"
   ]
  },
  {
   "cell_type": "code",
   "execution_count": 8,
   "metadata": {},
   "outputs": [
    {
     "name": "stdout",
     "output_type": "stream",
     "text": [
      "Average squared error per training example for MLPRegressor: 29.501689661809316\n",
      "Average squared error per training example for ProjectionPursuitRegressor: 2.641332442152373\n"
     ]
    }
   ],
   "source": [
    "print(\"Average squared error per training example for MLPRegressor:\",\n",
    "\tnumpy.sum((Y[training] - Ymlp)**2)/Ymlp.size)\n",
    "print(\"Average squared error per training example for ProjectionPursuitRegressor:\",\n",
    "\tnumpy.sum((Y[training] - Yppr)**2)/Yppr.size)\n"
   ]
  },
  {
   "cell_type": "code",
   "execution_count": 9,
   "metadata": {},
   "outputs": [],
   "source": [
    "Ymlp = mlp.predict(X[testing])\n",
    "Yppr = ppr.predict(X[testing])\n"
   ]
  },
  {
   "cell_type": "code",
   "execution_count": 10,
   "metadata": {},
   "outputs": [
    {
     "name": "stdout",
     "output_type": "stream",
     "text": [
      "Average squared error per testing example for MLPRegressor: 25.757707120310886\n",
      "Average squared error per testing example for ProjectionPursuitRegressor: 20.537708624981818\n",
      "Training time for MLPRegressor: 0.20839810371398926\n",
      "Training time for ProjectionPursuitRegressor: 4.108898162841797\n"
     ]
    }
   ],
   "source": [
    "print(\"Average squared error per testing example for MLPRegressor:\",\n",
    "\tnumpy.sum((Y[testing] - Ymlp)**2)/Ymlp.size)\n",
    "print(\"Average squared error per testing example for ProjectionPursuitRegressor:\",\n",
    "\tnumpy.sum((Y[testing] - Yppr)**2)/Yppr.size)\n",
    "\n",
    "print(\"Training time for MLPRegressor:\", b-a)\n",
    "print(\"Training time for ProjectionPursuitRegressor:\", c-b)"
   ]
  }
 ],
 "metadata": {
  "kernelspec": {
   "display_name": "Python 3",
   "language": "python",
   "name": "python3"
  },
  "language_info": {
   "codemirror_mode": {
    "name": "ipython",
    "version": 3
   },
   "file_extension": ".py",
   "mimetype": "text/x-python",
   "name": "python",
   "nbconvert_exporter": "python",
   "pygments_lexer": "ipython3",
   "version": "3.10.13"
  }
 },
 "nbformat": 4,
 "nbformat_minor": 2
}
